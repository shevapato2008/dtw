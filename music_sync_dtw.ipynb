{
 "cells": [
  {
   "cell_type": "code",
   "execution_count": null,
   "metadata": {
    "collapsed": true
   },
   "outputs": [],
   "source": [
    "%matplotlib inline"
   ]
  },
  {
   "cell_type": "markdown",
   "metadata": {},
   "source": [
    "\n",
    "# Music Synchronization with Dynamic Time Warping\n",
    "\n",
    "\n",
    "Source: [Music Synchronization with Dynamic Time Warping](https://librosa.github.io/librosa_gallery/auto_examples/plot_music_sync.html)\n",
    "\n",
    "In this short tutorial, we demonstrate the use of dynamic time warping (DTW) for music synchronization\n",
    "which is implemented in `librosa`.\n",
    "\n",
    "We assume that you are familiar with the algorithm and focus on the application. Further information about\n",
    "the algorithm can be found in the literature, e. g. [1].\n",
    "\n",
    "Our example consists of two recordings of the first bars of the famous\n",
    "brass section lick in Stevie Wonder's rendition of \"Sir Duke\".\n",
    "Due to differences in tempo, the first recording lasts for ca. 7 seconds and the second recording for ca. 5 seconds.\n",
    "Our objective is now to find an alignment between these two recordings by using DTW.\n",
    "\n",
    "\n"
   ]
  },
  {
   "cell_type": "code",
   "execution_count": null,
   "metadata": {
    "collapsed": true
   },
   "outputs": [],
   "source": [
    "# Code source: Stefan Balke\n",
    "# License: ISC\n",
    "# sphinx_gallery_thumbnail_number = 4\n",
    "\n",
    "from __future__ import print_function\n",
    "import numpy as np\n",
    "import matplotlib\n",
    "import matplotlib.pyplot as plt\n",
    "\n",
    "import librosa\n",
    "import librosa.display"
   ]
  },
  {
   "cell_type": "markdown",
   "metadata": {},
   "source": [
    "---------------------\n",
    "Load Audio Recordings\n",
    "---------------------\n",
    "First, let's load a first version of our audio recordings.\n",
    "\n"
   ]
  },
  {
   "cell_type": "code",
   "execution_count": null,
   "metadata": {
    "collapsed": true
   },
   "outputs": [],
   "source": [
    "x_1, fs = librosa.load('audio/sir_duke_slow.mp3')\n",
    "plt.figure(figsize=(16, 4))\n",
    "librosa.display.waveplot(x_1, sr=fs)\n",
    "plt.title('Slower Version $X_1$')\n",
    "plt.tight_layout()"
   ]
  },
  {
   "cell_type": "markdown",
   "metadata": {},
   "source": [
    "And a second version, slightly faster.\n",
    "\n"
   ]
  },
  {
   "cell_type": "code",
   "execution_count": null,
   "metadata": {
    "collapsed": true
   },
   "outputs": [],
   "source": [
    "x_2, fs = librosa.load('audio/sir_duke_fast.mp3')\n",
    "plt.figure(figsize=(16, 4))\n",
    "librosa.display.waveplot(x_2, sr=fs)\n",
    "plt.title('Faster Version $X_2$')\n",
    "plt.tight_layout()"
   ]
  },
  {
   "cell_type": "markdown",
   "metadata": {},
   "source": [
    "-----------------------\n",
    "Extract Chroma Features\n",
    "-----------------------\n",
    "\n"
   ]
  },
  {
   "cell_type": "code",
   "execution_count": null,
   "metadata": {
    "collapsed": true
   },
   "outputs": [],
   "source": [
    "n_fft = 4410\n",
    "hop_size = 2205\n",
    "\n",
    "x_1_chroma = librosa.feature.chroma_stft(y=x_1, sr=fs, tuning=0, norm=2,\n",
    "                                         hop_length=hop_size, n_fft=n_fft)\n",
    "x_2_chroma = librosa.feature.chroma_stft(y=x_2, sr=fs, tuning=0, norm=2,\n",
    "                                         hop_length=hop_size, n_fft=n_fft)\n",
    "\n",
    "plt.figure(figsize=(16, 8))\n",
    "plt.subplot(2, 1, 1)\n",
    "plt.title('Chroma Representation of $X_1$')\n",
    "librosa.display.specshow(x_1_chroma, x_axis='time',\n",
    "                         y_axis='chroma', cmap='gray_r', hop_length=hop_size)\n",
    "plt.colorbar()\n",
    "plt.subplot(2, 1, 2)\n",
    "plt.title('Chroma Representation of $X_2$')\n",
    "librosa.display.specshow(x_2_chroma, x_axis='time',\n",
    "                         y_axis='chroma', cmap='gray_r', hop_length=hop_size)\n",
    "plt.colorbar()\n",
    "plt.tight_layout()"
   ]
  },
  {
   "cell_type": "markdown",
   "metadata": {},
   "source": [
    "----------------------\n",
    "Align Chroma Sequences\n",
    "----------------------\n",
    "\n"
   ]
  },
  {
   "cell_type": "code",
   "execution_count": null,
   "metadata": {
    "collapsed": true
   },
   "outputs": [],
   "source": [
    "D, wp = librosa.core.dtw(X=x_1_chroma, Y=x_2_chroma, metric='cosine')\n",
    "wp_s = np.asarray(wp) * hop_size / fs\n",
    "\n",
    "fig = plt.figure(figsize=(10, 10))\n",
    "ax = fig.add_subplot(111)\n",
    "librosa.display.specshow(D, x_axis='time', y_axis='time',\n",
    "                         cmap='gray_r', hop_length=hop_size)\n",
    "imax = ax.imshow(D, cmap=plt.get_cmap('gray_r'),\n",
    "                 origin='lower', interpolation='nearest', aspect='auto')\n",
    "ax.plot(wp_s[:, 1], wp_s[:, 0], marker='o', color='r')\n",
    "plt.title('Warping Path on Acc. Cost Matrix $D$')\n",
    "plt.colorbar()"
   ]
  },
  {
   "cell_type": "markdown",
   "metadata": {},
   "source": [
    "--------------------------------------------\n",
    "Alternative Visualization in the Time Domain\n",
    "--------------------------------------------\n",
    "\n",
    "We can also visualize the wariping path directly on our time domain signals.\n",
    "Red lines connect corresponding time positions in the input signals.\n",
    "(Thanks to F. Zalkow for the nice visualization.)\n",
    "\n"
   ]
  },
  {
   "cell_type": "code",
   "execution_count": null,
   "metadata": {
    "collapsed": true
   },
   "outputs": [],
   "source": [
    "fig = plt.figure(figsize=(16, 8))\n",
    "\n",
    "# Plot x_1\n",
    "plt.subplot(2, 1, 1)\n",
    "librosa.display.waveplot(x_1, sr=fs)\n",
    "plt.title('Slower Version $X_1$')\n",
    "ax1 = plt.gca()\n",
    "\n",
    "# Plot x_2\n",
    "plt.subplot(2, 1, 2)\n",
    "librosa.display.waveplot(x_2, sr=fs)\n",
    "plt.title('Slower Version $X_2$')\n",
    "ax2 = plt.gca()\n",
    "\n",
    "plt.tight_layout()\n",
    "\n",
    "trans_figure = fig.transFigure.inverted()\n",
    "lines = []\n",
    "arrows = 30\n",
    "points_idx = np.int16(np.round(np.linspace(0, wp.shape[0] - 1, arrows)))\n",
    "\n",
    "# for tp1, tp2 in zip((wp[points_idx, 0]) * hop_size, (wp[points_idx, 1]) * hop_size):\n",
    "for tp1, tp2 in wp[points_idx] * hop_size / fs:\n",
    "    # get position on axis for a given index-pair\n",
    "    coord1 = trans_figure.transform(ax1.transData.transform([tp1, 0]))\n",
    "    coord2 = trans_figure.transform(ax2.transData.transform([tp2, 0]))\n",
    "\n",
    "    # draw a line\n",
    "    line = matplotlib.lines.Line2D((coord1[0], coord2[0]),\n",
    "                                   (coord1[1], coord2[1]),\n",
    "                                   transform=fig.transFigure,\n",
    "                                   color='r')\n",
    "    lines.append(line)\n",
    "\n",
    "fig.lines = lines\n",
    "plt.tight_layout()"
   ]
  },
  {
   "cell_type": "markdown",
   "metadata": {},
   "source": [
    "-------------\n",
    "Next steps...\n",
    "-------------\n",
    "\n",
    "Alright, you might ask where to go from here.\n",
    "Once we have the warping path between our two signals,\n",
    "we could realize different applications.\n",
    "One example is a player which enables you to navigate between\n",
    "different recordings of the same piece of music,\n",
    "e.g. one of Wagner's symphonies played by an orchestra or in a piano-reduced version.\n",
    "\n",
    "Another example is that you could apply time scale modification algorithms,\n",
    "e.g. speed up the slower signal to the tempo of the faster one.\n",
    "\n",
    "----------\n",
    "Literature\n",
    "----------\n",
    "\n",
    "[1] Meinard Müller, Fundamentals of Music Processing — Audio, Analysis, Algorithms, Applications.\n",
    "Springer Verlag, 2015.\n",
    "\n"
   ]
  }
 ],
 "metadata": {
  "kernelspec": {
   "display_name": "Python [default]",
   "language": "python",
   "name": "python3"
  },
  "language_info": {
   "codemirror_mode": {
    "name": "ipython",
    "version": 3
   },
   "file_extension": ".py",
   "mimetype": "text/x-python",
   "name": "python",
   "nbconvert_exporter": "python",
   "pygments_lexer": "ipython3",
   "version": "3.6.1"
  }
 },
 "nbformat": 4,
 "nbformat_minor": 1
}
